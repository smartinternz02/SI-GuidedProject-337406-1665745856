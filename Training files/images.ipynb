{
 "cells": [
  {
   "cell_type": "code",
   "execution_count": 41,
   "id": "3de14015",
   "metadata": {},
   "outputs": [],
   "source": [
    "#import the ImageDataGenerator\n",
    "from keras.preprocessing.image import ImageDataGenerator"
   ]
  },
  {
   "cell_type": "code",
   "execution_count": 42,
   "id": "2aec111f",
   "metadata": {},
   "outputs": [],
   "source": [
    "#image Data Agumentation\n",
    "train_datagen = ImageDataGenerator(rescale=1./255,shear_range=0.2,zoom_range=0.2,horizontal_flip=True)\n",
    "train_datagen = ImageDataGene"
   ]
  },
  {
   "cell_type": "code",
   "execution_count": 43,
   "id": "5e113333",
   "metadata": {},
   "outputs": [],
   "source": [
    "test_datagen=ImageDataGenerator(rescale=1./255)"
   ]
  },
  {
   "cell_type": "code",
   "execution_count": 44,
   "id": "966e8dba",
   "metadata": {},
   "outputs": [],
   "source": [
    "import os\n",
    "import cv2\n",
    "import numpy as np"
   ]
  },
  {
   "cell_type": "code",
   "execution_count": 45,
   "id": "af8099aa",
   "metadata": {},
   "outputs": [],
   "source": [
    "datapath =r\"C:\\Users\\Dell\\Desktop\\radiology\\train\""
   ]
  },
  {
   "cell_type": "code",
   "execution_count": 46,
   "id": "2764e7bf",
   "metadata": {},
   "outputs": [
    {
     "name": "stdout",
     "output_type": "stream",
     "text": [
      "Found 594 images belonging to 6 classes.\n"
     ]
    }
   ],
   "source": [
    "#Loading our data and performing data agumentation\n",
    "x_train = test_datagen.flow_from_directory(r\"C:\\Users\\Dell\\Desktop\\radiology\\train\",target_size=(64, 64),batch_size=5,color_mode='grayscale',class_mode='categorical')"
   ]
  },
  {
   "cell_type": "code",
   "execution_count": 47,
   "id": "6d8fd26c",
   "metadata": {},
   "outputs": [],
   "source": [
    "datapath =r\"C:\\Users\\Dell\\Desktop\\radiology\\test\""
   ]
  },
  {
   "cell_type": "code",
   "execution_count": 48,
   "id": "10b91709",
   "metadata": {},
   "outputs": [
    {
     "name": "stdout",
     "output_type": "stream",
     "text": [
      "Found 30 images belonging to 6 classes.\n"
     ]
    }
   ],
   "source": [
    "x_test = test_datagen.flow_from_directory(r\"C:\\Users\\Dell\\Desktop\\radiology\\test\",target_size=(64, 64),batch_size=5,color_mode='grayscale',class_mode='categorical')"
   ]
  },
  {
   "cell_type": "code",
   "execution_count": 49,
   "id": "c84a9989",
   "metadata": {},
   "outputs": [],
   "source": [
    "#importing Necessary Libraries\n",
    "import numpy as np\n",
    "import tensorflow\n",
    "from tensorflow.keras.models import Sequential\n",
    "from tensorflow.keras import layers\n",
    "from tensorflow.keras.layers import Dense,Flatten\n",
    "from tensorflow.keras.layers import Conv2D,MaxPooling2D\n",
    "from keras.preprocessing.image import ImageDataGenerator"
   ]
  },
  {
   "cell_type": "code",
   "execution_count": 50,
   "id": "945af684",
   "metadata": {},
   "outputs": [],
   "source": [
    "#Initializing the model\n",
    "model=Sequential()"
   ]
  },
  {
   "cell_type": "code",
   "execution_count": 51,
   "id": "e265254f",
   "metadata": {},
   "outputs": [],
   "source": [
    "#First convolution Layer and pooling\n",
    "model.add(Conv2D(32,(3,3),input_shape=(64, 64, 1),activation='relu'))\n",
    "model.add(MaxPooling2D(pool_size=(2, 2)))"
   ]
  },
  {
   "cell_type": "code",
   "execution_count": 52,
   "id": "659666a8",
   "metadata": {},
   "outputs": [],
   "source": [
    "#Second convolution Layer and pooling\n",
    "model.add(Conv2D(32,(3, 3),activation='relu'))\n",
    "#input_shape is going to be the pooled feature mapsfrom the previous convolution layer\n",
    "model.add(MaxPooling2D(pool_size=(2, 2)))"
   ]
  },
  {
   "cell_type": "code",
   "execution_count": 53,
   "id": "2c94bcf2",
   "metadata": {},
   "outputs": [],
   "source": [
    "#Flattening the layers\n",
    "model.add(Flatten())"
   ]
  },
  {
   "cell_type": "code",
   "execution_count": 54,
   "id": "b76dd321",
   "metadata": {},
   "outputs": [],
   "source": [
    "model.add(Dense(units=128,activation='relu'))\n",
    "model.add(Dense(units=6,activation='softmax'))"
   ]
  },
  {
   "cell_type": "code",
   "execution_count": 55,
   "id": "fa70f162",
   "metadata": {},
   "outputs": [
    {
     "name": "stdout",
     "output_type": "stream",
     "text": [
      "Model: \"sequential_1\"\n",
      "_________________________________________________________________\n",
      " Layer (type)                Output Shape              Param #   \n",
      "=================================================================\n",
      " conv2d_2 (Conv2D)           (None, 62, 62, 32)        320       \n",
      "                                                                 \n",
      " max_pooling2d_2 (MaxPooling  (None, 31, 31, 32)       0         \n",
      " 2D)                                                             \n",
      "                                                                 \n",
      " conv2d_3 (Conv2D)           (None, 29, 29, 32)        9248      \n",
      "                                                                 \n",
      " max_pooling2d_3 (MaxPooling  (None, 14, 14, 32)       0         \n",
      " 2D)                                                             \n",
      "                                                                 \n",
      " flatten_1 (Flatten)         (None, 6272)              0         \n",
      "                                                                 \n",
      " dense_2 (Dense)             (None, 128)               802944    \n",
      "                                                                 \n",
      " dense_3 (Dense)             (None, 6)                 774       \n",
      "                                                                 \n",
      "=================================================================\n",
      "Total params: 813,286\n",
      "Trainable params: 813,286\n",
      "Non-trainable params: 0\n",
      "_________________________________________________________________\n"
     ]
    }
   ],
   "source": [
    "model.summary()"
   ]
  },
  {
   "cell_type": "code",
   "execution_count": 56,
   "id": "8434ce21",
   "metadata": {},
   "outputs": [],
   "source": [
    "#compiling the model\n",
    "model.compile(optimizer='adam',loss='categorical_crossentropy',metrics=['accuracy'])"
   ]
  },
  {
   "cell_type": "code",
   "execution_count": 57,
   "id": "d509f9bd",
   "metadata": {},
   "outputs": [
    {
     "name": "stdout",
     "output_type": "stream",
     "text": [
      "Epoch 1/20\n"
     ]
    },
    {
     "name": "stderr",
     "output_type": "stream",
     "text": [
      "C:\\Users\\Dell\\AppData\\Local\\Temp\\ipykernel_11256\\197708238.py:1: UserWarning: `Model.fit_generator` is deprecated and will be removed in a future version. Please use `Model.fit`, which supports generators.\n",
      "  model.fit_generator(\n"
     ]
    },
    {
     "name": "stdout",
     "output_type": "stream",
     "text": [
      "119/119 [==============================] - 4s 23ms/step - loss: 1.3687 - accuracy: 0.4596 - val_loss: 0.7462 - val_accuracy: 0.8000\n",
      "Epoch 2/20\n",
      "119/119 [==============================] - 3s 22ms/step - loss: 0.5288 - accuracy: 0.8199 - val_loss: 0.5674 - val_accuracy: 0.8000\n",
      "Epoch 3/20\n",
      "119/119 [==============================] - 3s 21ms/step - loss: 0.2812 - accuracy: 0.8990 - val_loss: 0.5679 - val_accuracy: 0.8333\n",
      "Epoch 4/20\n",
      "119/119 [==============================] - 2s 21ms/step - loss: 0.1245 - accuracy: 0.9680 - val_loss: 0.6717 - val_accuracy: 0.8667\n",
      "Epoch 5/20\n",
      "119/119 [==============================] - 3s 22ms/step - loss: 0.0348 - accuracy: 0.9933 - val_loss: 0.5370 - val_accuracy: 0.8667\n",
      "Epoch 6/20\n",
      "119/119 [==============================] - 3s 22ms/step - loss: 0.0208 - accuracy: 0.9966 - val_loss: 0.5995 - val_accuracy: 0.8667\n",
      "Epoch 7/20\n",
      "119/119 [==============================] - 3s 21ms/step - loss: 0.0071 - accuracy: 1.0000 - val_loss: 0.8117 - val_accuracy: 0.8333\n",
      "Epoch 8/20\n",
      "119/119 [==============================] - 3s 21ms/step - loss: 0.0130 - accuracy: 0.9933 - val_loss: 0.7890 - val_accuracy: 0.8667\n",
      "Epoch 9/20\n",
      "119/119 [==============================] - 3s 21ms/step - loss: 0.0058 - accuracy: 0.9983 - val_loss: 0.6816 - val_accuracy: 0.9333\n",
      "Epoch 10/20\n",
      "119/119 [==============================] - 2s 21ms/step - loss: 0.0155 - accuracy: 0.9966 - val_loss: 0.5358 - val_accuracy: 0.9000\n",
      "Epoch 11/20\n",
      "119/119 [==============================] - 3s 21ms/step - loss: 0.0614 - accuracy: 0.9815 - val_loss: 0.8624 - val_accuracy: 0.8000\n",
      "Epoch 12/20\n",
      "119/119 [==============================] - 3s 21ms/step - loss: 0.0349 - accuracy: 0.9916 - val_loss: 0.7677 - val_accuracy: 0.8333\n",
      "Epoch 13/20\n",
      "119/119 [==============================] - 3s 21ms/step - loss: 0.0536 - accuracy: 0.9832 - val_loss: 0.6704 - val_accuracy: 0.8000\n",
      "Epoch 14/20\n",
      "119/119 [==============================] - 2s 20ms/step - loss: 0.0324 - accuracy: 0.9832 - val_loss: 0.6114 - val_accuracy: 0.8333\n",
      "Epoch 15/20\n",
      "119/119 [==============================] - 3s 21ms/step - loss: 0.0052 - accuracy: 0.9983 - val_loss: 0.6566 - val_accuracy: 0.8667\n",
      "Epoch 16/20\n",
      "119/119 [==============================] - 3s 21ms/step - loss: 9.4692e-04 - accuracy: 1.0000 - val_loss: 0.7115 - val_accuracy: 0.8667\n",
      "Epoch 17/20\n",
      "119/119 [==============================] - 2s 21ms/step - loss: 3.6690e-04 - accuracy: 1.0000 - val_loss: 0.7240 - val_accuracy: 0.8667\n",
      "Epoch 18/20\n",
      "119/119 [==============================] - 3s 21ms/step - loss: 2.6763e-04 - accuracy: 1.0000 - val_loss: 0.7329 - val_accuracy: 0.8667\n",
      "Epoch 19/20\n",
      "119/119 [==============================] - 2s 21ms/step - loss: 2.0857e-04 - accuracy: 1.0000 - val_loss: 0.7449 - val_accuracy: 0.8667\n",
      "Epoch 20/20\n",
      "119/119 [==============================] - 2s 21ms/step - loss: 1.7099e-04 - accuracy: 1.0000 - val_loss: 0.7540 - val_accuracy: 0.8667\n"
     ]
    },
    {
     "data": {
      "text/plain": [
       "<keras.callbacks.History at 0x2278d5c6c10>"
      ]
     },
     "execution_count": 57,
     "metadata": {},
     "output_type": "execute_result"
    }
   ],
   "source": [
    "#Fitting the model\n",
    "model.fit_generator(\n",
    "    generator=x_train,steps_per_epoch = len(x_train),\n",
    "    epochs=20, validation_data=x_test,validation_steps = len(x_test))"
   ]
  },
  {
   "cell_type": "code",
   "execution_count": 58,
   "id": "9252611e",
   "metadata": {},
   "outputs": [],
   "source": [
    "#Save the model\n",
    "model.save('gesture.h5')"
   ]
  },
  {
   "cell_type": "code",
   "execution_count": 59,
   "id": "9b6f241a",
   "metadata": {},
   "outputs": [],
   "source": [
    "model_json = model.to_json()\n",
    "with open(\"model-bw.json\",\"w\") as json_file:\n",
    "    json_file.write(model_json)"
   ]
  },
  {
   "cell_type": "code",
   "execution_count": 60,
   "id": "e5e77b79",
   "metadata": {},
   "outputs": [],
   "source": [
    "#Predicting our results\n",
    "from tensorflow.keras.models import load_model\n",
    "from tensorflow.keras.preprocessing import image\n",
    "model = load_model(\"gesture.h5\")\n",
    "path = r\"C:\\Users\\Dell\\Desktop\\radiology\\test\\1\\1.jpg\""
   ]
  },
  {
   "cell_type": "code",
   "execution_count": 61,
   "id": "4add2c55",
   "metadata": {},
   "outputs": [
    {
     "name": "stdout",
     "output_type": "stream",
     "text": [
      "%pylab is deprecated, use %matplotlib inline and import the required libraries.\n",
      "Populating the interactive namespace from numpy and matplotlib\n"
     ]
    },
    {
     "data": {
      "image/png": "[encoded data removed]",
      "text/plain": [
       "<Figure size 432x288 with 1 Axes>"
      ]
     },
     "metadata": {
      "needs_background": "light"
     },
     "output_type": "display_data"
    }
   ],
   "source": [
    "%pylab inline\n",
    "import matplotlib.pyplot as plt\n",
    "import matplotlib.image as mpimg\n",
    "imgs = mpimg.imread(r\"C:\\Users\\Dell\\Desktop\\radiology\\test\\1\\1.jpg\")\n",
    "imgplot = plt.imshow(imgs)\n",
    "plt.show()"
   ]
  },
  {
   "cell_type": "code",
   "execution_count": 62,
   "id": "0293a2ac",
   "metadata": {},
   "outputs": [
    {
     "name": "stderr",
     "output_type": "stream",
     "text": [
      "C:\\Users\\Dell\\AppData\\Roaming\\Python\\Python39\\site-packages\\keras\\utils\\image_utils.py:409: UserWarning: grayscale is deprecated. Please use color_mode = \"grayscale\"\n",
      "  warnings.warn(\n"
     ]
    },
    {
     "data": {
      "text/plain": [
       "(64, 64, 1)"
      ]
     },
     "execution_count": 62,
     "metadata": {},
     "output_type": "execute_result"
    }
   ],
   "source": [
    "img = image.load_img(r\"C:\\Users\\Dell\\Desktop\\radiology\\test\\1\\1.jpg\",grayscale=True,\n",
    "                    target_size= (64,64))\n",
    "x = image.img_to_array(img)\n",
    "x.shape"
   ]
  },
  {
   "cell_type": "code",
   "execution_count": 63,
   "id": "5914acdf",
   "metadata": {},
   "outputs": [
    {
     "data": {
      "text/plain": [
       "numpy.ndarray"
      ]
     },
     "execution_count": 63,
     "metadata": {},
     "output_type": "execute_result"
    }
   ],
   "source": [
    "type(x)"
   ]
  },
  {
   "cell_type": "code",
   "execution_count": 181,
   "id": "9992e892",
   "metadata": {},
   "outputs": [],
   "source": [
    "x = np.expand_dims(x,axis = 0)"
   ]
  },
  {
   "cell_type": "code",
   "execution_count": 183,
   "id": "f4c10374",
   "metadata": {},
   "outputs": [
    {
     "data": {
      "text/plain": [
       "(1, 1, 1, 64, 64, 1)"
      ]
     },
     "execution_count": 183,
     "metadata": {},
     "output_type": "execute_result"
    }
   ],
   "source": [
    "x.shape"
   ]
  },
  {
   "cell_type": "code",
   "execution_count": 224,
   "id": "1345696f",
   "metadata": {},
   "outputs": [
    {
     "name": "stdout",
     "output_type": "stream",
     "text": [
      "Defaulting to user installation because normal site-packages is not writeable\n"
     ]
    },
    {
     "name": "stderr",
     "output_type": "stream",
     "text": [
      "ERROR: Could not find a version that satisfies the requirement pred (from versions: none)\n",
      "ERROR: No matching distribution found for pred\n"
     ]
    }
   ],
   "source": [
    "!pip install pred"
   ]
  },
  {
   "cell_type": "code",
   "execution_count": 284,
   "id": "5abdec27",
   "metadata": {},
   "outputs": [
    {
     "data": {
      "text/plain": [
       "'1'"
      ]
     },
     "execution_count": 284,
     "metadata": {},
     "output_type": "execute_result"
    }
   ],
   "source": [
    "index=['0','1','2','3','4','5']\n",
    "result=str(1)\n",
    "result"
   ]
  },
  {
   "cell_type": "code",
   "execution_count": 285,
   "id": "00fc3df8",
   "metadata": {},
   "outputs": [
    {
     "name": "stdout",
     "output_type": "stream",
     "text": [
      "Defaulting to user installation because normal site-packages is not writeable\n",
      "Requirement already satisfied: flask in c:\\programdata\\anaconda3\\lib\\site-packages (1.1.2)\n",
      "Requirement already satisfied: Werkzeug>=0.15 in c:\\programdata\\anaconda3\\lib\\site-packages (from flask) (2.0.3)\n",
      "Requirement already satisfied: click>=5.1 in c:\\programdata\\anaconda3\\lib\\site-packages (from flask) (8.0.4)\n",
      "Requirement already satisfied: Jinja2>=2.10.1 in c:\\programdata\\anaconda3\\lib\\site-packages (from flask) (2.11.3)\n",
      "Requirement already satisfied: itsdangerous>=0.24 in c:\\programdata\\anaconda3\\lib\\site-packages (from flask) (2.0.1)\n",
      "Requirement already satisfied: colorama in c:\\programdata\\anaconda3\\lib\\site-packages (from click>=5.1->flask) (0.4.4)\n",
      "Requirement already satisfied: MarkupSafe>=0.23 in c:\\programdata\\anaconda3\\lib\\site-packages (from Jinja2>=2.10.1->flask) (2.0.1)\n"
     ]
    }
   ],
   "source": [
    "!pip install flask"
   ]
  },
  {
   "cell_type": "code",
   "execution_count": 286,
   "id": "b2310545",
   "metadata": {},
   "outputs": [],
   "source": [
    "from flask import Flask,render_template,request\n",
    "import operator\n",
    "import cv2\n",
    "from tensorflow.keras.models import load_model\n",
    "import os\n",
    "from werkzeug.utils import secure_filename"
   ]
  },
  {
   "cell_type": "code",
   "execution_count": null,
   "id": "2d5b5539",
   "metadata": {},
   "outputs": [],
   "source": [
    "app = Flask(__name__,template_folder=\"templates\")\n",
    "model=load_model('gesture.h5')\n",
    "print(\"Loaded model from disk\")"
   ]
  },
  {
   "cell_type": "code",
   "execution_count": null,
   "id": "4e283947",
   "metadata": {},
   "outputs": [],
   "source": []
  }
 ],
 "metadata": {
  "kernelspec": {
   "display_name": "Python 3 (ipykernel)",
   "language": "python",
   "name": "python3"
  },
  "language_info": {
   "codemirror_mode": {
    "name": "ipython",
    "version": 3
   },
   "file_extension": ".py",
   "mimetype": "text/x-python",
   "name": "python",
   "nbconvert_exporter": "python",
   "pygments_lexer": "ipython3",
   "version": "3.9.12"
  }
 },
 "nbformat": 4,
 "nbformat_minor": 5
}
